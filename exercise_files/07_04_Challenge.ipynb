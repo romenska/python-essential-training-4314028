{
 "cells": [
  {
   "cell_type": "markdown",
   "id": "6d8279ab",
   "metadata": {},
   "source": [
    "## Extending the Messenger\n",
    "\n",
    "Create a class \"SaveMessages\" that extends the Messenger class that does the following things:\n",
    "\n",
    "- Add any messages it receives to a list, along with the time the message was received\n",
    "- Use the provided \"getCurrentTime\" function so that the received message time is a string\n",
    "- Contains a method called \"printMessages\" that prints all collected messages when it's called.\n",
    "\n",
    "You might also consider clearing the message list when \"printMessages\" is called. \n"
   ]
  },
  {
   "cell_type": "code",
   "execution_count": 1,
   "id": "35d4f1f5",
   "metadata": {
    "ExecuteTime": {
     "end_time": "2023-07-02T07:44:24.102838550Z",
     "start_time": "2023-07-02T07:44:24.102407288Z"
    }
   },
   "outputs": [],
   "source": [
    "from datetime import datetime\n",
    "\n",
    "def getCurrentTime():\n",
    "    return datetime.now().strftime(\"%m-%d-%Y %H:%M:%S\")\n",
    "\n",
    "\n",
    "class Messenger:\n",
    "    def __init__(self, listeners=[]):\n",
    "        self.listeners = listeners\n",
    "    \n",
    "    def send(self, message):\n",
    "        for listener in self.listeners:\n",
    "            listener.receive(message)\n",
    "\n",
    "    def receive(self, message):\n",
    "        # Must be implemented by extending classes\n",
    "        pass\n",
    "\n",
    "\n",
    "class SaveMessages(Messenger):\n",
    "    def __init__(self):\n",
    "        super().__init__()\n",
    "        self.history=[]\n",
    "    def receive(self, message):\n",
    "        self.history.append(f'{getCurrentTime()} : {message}')\n",
    "    def printMessages(self):\n",
    "        for msg in self.history:\n",
    "        print(self.history)\n",
    "\n",
    "\n",
    "\n",
    "\n"
   ]
  },
  {
   "cell_type": "code",
   "execution_count": 2,
   "id": "608e3112",
   "metadata": {
    "ExecuteTime": {
     "end_time": "2023-07-02T07:44:24.103058904Z",
     "start_time": "2023-07-02T07:44:24.102567766Z"
    }
   },
   "outputs": [],
   "source": [
    "# Run this cell after you've written your solution\n",
    "listener = SaveMessages()\n",
    "\n",
    "sender = Messenger([listener])\n",
    "\n",
    "sender.send('Hello, there! This is the first message')\n"
   ]
  },
  {
   "cell_type": "code",
   "execution_count": 3,
   "id": "2de8c179",
   "metadata": {
    "ExecuteTime": {
     "end_time": "2023-07-02T07:44:24.103114596Z",
     "start_time": "2023-07-02T07:44:24.102618680Z"
    }
   },
   "outputs": [],
   "source": [
    "# Run this cell after you've written your solution\n",
    "sender.send('Oh hi! This is the second message!')"
   ]
  },
  {
   "cell_type": "code",
   "execution_count": 4,
   "id": "29c00698",
   "metadata": {
    "ExecuteTime": {
     "end_time": "2023-07-02T07:44:24.103225111Z",
     "start_time": "2023-07-02T07:44:24.102653912Z"
    }
   },
   "outputs": [
    {
     "name": "stdout",
     "output_type": "stream",
     "text": [
      "07-02-2023 10:44:24 : Hello, there! This is the first message\n",
      "07-02-2023 10:44:24 : Oh hi! This is the second message!\n",
      "07-02-2023 10:44:24 : Hola! This is the third and final message!\n"
     ]
    }
   ],
   "source": [
    "# Run this cell after you've written your solution\n",
    "sender.send('Hola! This is the third and final message!')\n",
    "\n",
    "listener.printMessages()"
   ]
  }
 ],
 "metadata": {
  "kernelspec": {
   "display_name": "Python 3.10.4 64-bit",
   "language": "python",
   "name": "python3"
  },
  "language_info": {
   "codemirror_mode": {
    "name": "ipython",
    "version": 3
   },
   "file_extension": ".py",
   "mimetype": "text/x-python",
   "name": "python",
   "nbconvert_exporter": "python",
   "pygments_lexer": "ipython3",
   "version": "3.10.4"
  },
  "vscode": {
   "interpreter": {
    "hash": "949777d72b0d2535278d3dc13498b2535136f6dfe0678499012e853ee9abcab1"
   }
  }
 },
 "nbformat": 4,
 "nbformat_minor": 5
}

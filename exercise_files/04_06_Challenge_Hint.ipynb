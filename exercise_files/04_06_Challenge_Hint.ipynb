{
 "cells": [
  {
   "cell_type": "markdown",
   "id": "6a6c3649",
   "metadata": {},
   "source": [
    "## ASCII Art Encoding\n",
    "\n",
    "Write a function \"encodeString\" that will encode a string like 'AAAAABBBBAAA' as a list of tuples: [('A', 5), ('B', 4), ('A', 3)] meaning that the string has \"5 A's, followed by 4 B's, followed by 3 A's\"\n",
    "\n",
    "Then use that function to compress a string containing \"ASCII Art\" (https://en.wikipedia.org/wiki/ASCII_art)\n",
    "\n",
    "Write a corresponding function \"decodeString\" that will take in a list of tuples and print the original string.\n"
   ]
  },
  {
   "cell_type": "markdown",
   "id": "47490f41",
   "metadata": {},
   "source": [
    "### Challenge Hints!"
   ]
  },
  {
   "cell_type": "markdown",
   "id": "a8c64bd5",
   "metadata": {},
   "source": [
    "**Hint 1:** While iterating through each character of a string, we can print out when a string has \"switched\" from one character to another:"
   ]
  },
  {
   "cell_type": "code",
   "execution_count": 58,
   "id": "c3d70033",
   "metadata": {
    "ExecuteTime": {
     "end_time": "2023-07-01T13:51:47.114863374Z",
     "start_time": "2023-07-01T13:51:47.066794225Z"
    }
   },
   "outputs": [
    {
     "name": "stdout",
     "output_type": "stream",
     "text": [
      "New character is A\n",
      "New character is B\n",
      "New character is C\n"
     ]
    }
   ],
   "source": [
    "stringVal = 'AAAAABBBBBCCCCC'\n",
    "\n",
    "prevChar = None\n",
    "for char in stringVal:\n",
    "    if char != prevChar:\n",
    "        print(f'New character is {char}')\n",
    "    prevChar = char"
   ]
  },
  {
   "cell_type": "markdown",
   "id": "54ce72f7",
   "metadata": {},
   "source": [
    "**Hint 2:** Remember that you can multiply a string by a number!"
   ]
  },
  {
   "cell_type": "code",
   "execution_count": 59,
   "id": "7ab4bd96",
   "metadata": {
    "ExecuteTime": {
     "end_time": "2023-07-01T13:51:47.115289419Z",
     "start_time": "2023-07-01T13:51:47.114308448Z"
    }
   },
   "outputs": [
    {
     "data": {
      "text/plain": "'AAAAA'"
     },
     "execution_count": 59,
     "metadata": {},
     "output_type": "execute_result"
    }
   ],
   "source": [
    "'A'*5"
   ]
  },
  {
   "cell_type": "code",
   "execution_count": 60,
   "id": "7777d38e",
   "metadata": {
    "ExecuteTime": {
     "end_time": "2023-07-01T13:51:47.115401026Z",
     "start_time": "2023-07-01T13:51:47.114581562Z"
    }
   },
   "outputs": [],
   "source": [
    "def encodeString(stringVal):\n",
    "    list_val=[]\n",
    "    for c in stringVal:\n",
    "        if c==' ':\n",
    "            c='-'\n",
    "        elif c=='%':\n",
    "            c='X'\n",
    "        if not list_val or  list_val[-1][0] !=c:\n",
    "            list_val.append((c,1))\n",
    "        else:\n",
    "            list_val[-1]=c,list_val[-1][1]+1\n",
    "    return list_val\n",
    "def decodeString(encodedList):\n",
    "    result=''\n",
    "    for ch, count in encodedList:\n",
    "        result += ch * count\n",
    "\n",
    "    return result\n"
   ]
  },
  {
   "cell_type": "code",
   "execution_count": 61,
   "outputs": [
    {
     "data": {
      "text/plain": "[('A', 5), ('B', 5), ('C', 5)]"
     },
     "execution_count": 61,
     "metadata": {},
     "output_type": "execute_result"
    }
   ],
   "source": [
    "cod = encodeString('AAAAABBBBBCCCCC')\n",
    "cod"
   ],
   "metadata": {
    "collapsed": false,
    "ExecuteTime": {
     "end_time": "2023-07-01T13:51:47.115513683Z",
     "start_time": "2023-07-01T13:51:47.114741060Z"
    }
   }
  },
  {
   "cell_type": "code",
   "execution_count": 62,
   "outputs": [
    {
     "data": {
      "text/plain": "'AAAAABBBBBCCCCC'"
     },
     "execution_count": 62,
     "metadata": {},
     "output_type": "execute_result"
    }
   ],
   "source": [
    "decodeString(cod)"
   ],
   "metadata": {
    "collapsed": false,
    "ExecuteTime": {
     "end_time": "2023-07-01T13:51:47.115641381Z",
     "start_time": "2023-07-01T13:51:47.115081254Z"
    }
   }
  },
  {
   "cell_type": "code",
   "execution_count": 63,
   "id": "3eee6256",
   "metadata": {
    "ExecuteTime": {
     "end_time": "2023-07-01T13:51:47.115694306Z",
     "start_time": "2023-07-01T13:51:47.115351655Z"
    }
   },
   "outputs": [],
   "source": [
    "art = '''\n",
    "\n",
    "                                                                                \n",
    "                                                                                \n",
    "                               %%%%%%%%%%%%%%%%%%%                              \n",
    "                        %%%%%%%%%%%%%%%%%%%%%%%%%%%%%%%%%                       \n",
    "                    %%%%%%%%                         %%%%%%%%                   \n",
    "                %%%%%%%                                   %%%%%%                \n",
    "              %%%%%%                                         %%%%%%             \n",
    "           %%%%%%                                               %%%%%           \n",
    "          %%%%%                                                   %%%%%         \n",
    "        %%%%%                                                       %%%%%       \n",
    "       %%%%                 %%%%%              %%%%%                  %%%%      \n",
    "      %%%%                 %%%%%%%            %%%%%%%                  %%%%     \n",
    "     %%%%                  %%%%%%%            %%%%%%%                   %%%%    \n",
    "    %%%%                   %%%%%%%            %%%%%%%                    %%%%   \n",
    "    %%%%                    %%%%%              %%%%%                     %%%%   \n",
    "   %%%%                                                                   %%%%  \n",
    "   %%%%                                                                   %%%%  \n",
    "   %%%%                                                                   %%%%  \n",
    "   %%%%                                                      %%%%        %%%%   \n",
    "    %%%%       %%%%%%                                        %%%%%       %%%%   \n",
    "    %%%%         %%%%                                       %%%%        %%%%    \n",
    "     %%%%         %%%%                                     %%%%         %%%%    \n",
    "      %%%%         %%%%%                                  %%%%         %%%%     \n",
    "       %%%%%         %%%%%                             %%%%%         %%%%%      \n",
    "        %%%%%          %%%%%%                        %%%%%          %%%%        \n",
    "          %%%%%           %%%%%%%               %%%%%%%           %%%%%         \n",
    "            %%%%%             %%%%%%%%%%%%%%%%%%%%%             %%%%%           \n",
    "              %%%%%%%                                        %%%%%              \n",
    "                 %%%%%%%                                 %%%%%%%                \n",
    "                     %%%%%%%%%                     %%%%%%%%%                    \n",
    "                          %%%%%%%%%%%%%%%%%%%%%%%%%%%%%                         \n",
    "                                   %%%%%%%%%%%%                                 \n",
    "                                                                                \n",
    "                                                                                 \n",
    "\n",
    "'''"
   ]
  },
  {
   "cell_type": "code",
   "execution_count": 64,
   "id": "dec27033",
   "metadata": {
    "ExecuteTime": {
     "end_time": "2023-07-01T13:51:47.115758815Z",
     "start_time": "2023-07-01T13:51:47.115561273Z"
    }
   },
   "outputs": [],
   "source": [
    "encodedString = encodeString(art)"
   ]
  },
  {
   "cell_type": "code",
   "execution_count": 65,
   "id": "942d4ff8",
   "metadata": {
    "ExecuteTime": {
     "end_time": "2023-07-01T13:51:47.115862672Z",
     "start_time": "2023-07-01T13:51:47.115720682Z"
    }
   },
   "outputs": [
    {
     "name": "stdout",
     "output_type": "stream",
     "text": [
      "\n",
      "\n",
      "--------------------------------------------------------------------------------\n",
      "--------------------------------------------------------------------------------\n",
      "-------------------------------XXXXXXXXXXXXXXXXXXX------------------------------\n",
      "------------------------XXXXXXXXXXXXXXXXXXXXXXXXXXXXXXXXX-----------------------\n",
      "--------------------XXXXXXXX-------------------------XXXXXXXX-------------------\n",
      "----------------XXXXXXX-----------------------------------XXXXXX----------------\n",
      "--------------XXXXXX-----------------------------------------XXXXXX-------------\n",
      "-----------XXXXXX-----------------------------------------------XXXXX-----------\n",
      "----------XXXXX---------------------------------------------------XXXXX---------\n",
      "--------XXXXX-------------------------------------------------------XXXXX-------\n",
      "-------XXXX-----------------XXXXX--------------XXXXX------------------XXXX------\n",
      "------XXXX-----------------XXXXXXX------------XXXXXXX------------------XXXX-----\n",
      "-----XXXX------------------XXXXXXX------------XXXXXXX-------------------XXXX----\n",
      "----XXXX-------------------XXXXXXX------------XXXXXXX--------------------XXXX---\n",
      "----XXXX--------------------XXXXX--------------XXXXX---------------------XXXX---\n",
      "---XXXX-------------------------------------------------------------------XXXX--\n",
      "---XXXX-------------------------------------------------------------------XXXX--\n",
      "---XXXX-------------------------------------------------------------------XXXX--\n",
      "---XXXX------------------------------------------------------XXXX--------XXXX---\n",
      "----XXXX-------XXXXXX----------------------------------------XXXXX-------XXXX---\n",
      "----XXXX---------XXXX---------------------------------------XXXX--------XXXX----\n",
      "-----XXXX---------XXXX-------------------------------------XXXX---------XXXX----\n",
      "------XXXX---------XXXXX----------------------------------XXXX---------XXXX-----\n",
      "-------XXXXX---------XXXXX-----------------------------XXXXX---------XXXXX------\n",
      "--------XXXXX----------XXXXXX------------------------XXXXX----------XXXX--------\n",
      "----------XXXXX-----------XXXXXXX---------------XXXXXXX-----------XXXXX---------\n",
      "------------XXXXX-------------XXXXXXXXXXXXXXXXXXXXX-------------XXXXX-----------\n",
      "--------------XXXXXXX----------------------------------------XXXXX--------------\n",
      "-----------------XXXXXXX---------------------------------XXXXXXX----------------\n",
      "---------------------XXXXXXXXX---------------------XXXXXXXXX--------------------\n",
      "--------------------------XXXXXXXXXXXXXXXXXXXXXXXXXXXXX-------------------------\n",
      "-----------------------------------XXXXXXXXXXXX---------------------------------\n",
      "--------------------------------------------------------------------------------\n",
      "---------------------------------------------------------------------------------\n",
      "\n",
      "\n"
     ]
    }
   ],
   "source": [
    "res = decodeString(encodedString)\n",
    "print(res)"
   ]
  },
  {
   "cell_type": "code",
   "execution_count": 65,
   "id": "e1485f53",
   "metadata": {
    "ExecuteTime": {
     "end_time": "2023-07-01T13:51:47.117432515Z",
     "start_time": "2023-07-01T13:51:47.115927332Z"
    }
   },
   "outputs": [],
   "source": []
  }
 ],
 "metadata": {
  "kernelspec": {
   "display_name": "Python 3.10.4 64-bit",
   "language": "python",
   "name": "python3"
  },
  "language_info": {
   "codemirror_mode": {
    "name": "ipython",
    "version": 3
   },
   "file_extension": ".py",
   "mimetype": "text/x-python",
   "name": "python",
   "nbconvert_exporter": "python",
   "pygments_lexer": "ipython3",
   "version": "3.10.4"
  },
  "vscode": {
   "interpreter": {
    "hash": "949777d72b0d2535278d3dc13498b2535136f6dfe0678499012e853ee9abcab1"
   }
  }
 },
 "nbformat": 4,
 "nbformat_minor": 5
}

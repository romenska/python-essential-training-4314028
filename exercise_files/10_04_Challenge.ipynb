{
 "cells": [
  {
   "cell_type": "markdown",
   "id": "5ecfaeb8",
   "metadata": {},
   "source": [
    "## ASCII Art Compression\n",
    "\n",
    "Use the \"encodeString\" and \"decodeString\" functions from the Chapter 4 challenge, provided below\n",
    "\n",
    "Read in the ASCII art text file 10_04_challenge_art.txt and write it back to a new file that has a smaller file size than the original file. \n",
    "For example, the original 10_04_challenge_art.txt has a file size of 2.757kB (or 2,757 ASCII characters).\n",
    "\n",
    "- Any compression is great!\n",
    "- Is there any way you could get this file to 1kb?\n",
    "- Less than 1kb?\n",
    "\n",
    "After compressing the file, make sure to check your work by opening and decoding it again!\n",
    "\n"
   ]
  },
  {
   "cell_type": "code",
   "execution_count": 75,
   "id": "0ec1174a",
   "metadata": {
    "ExecuteTime": {
     "end_time": "2023-07-02T12:30:48.531878517Z",
     "start_time": "2023-07-02T12:30:48.473296009Z"
    }
   },
   "outputs": [],
   "source": [
    "import os\n",
    "import json\n",
    "\n",
    "def encodeString(stringVal):\n",
    "    encodedList = []\n",
    "    prevChar = None\n",
    "    count = 0\n",
    "    for char in stringVal:\n",
    "        if prevChar != char and prevChar is not None:\n",
    "            encodedList.append((prevChar, count))\n",
    "            count = 0\n",
    "        prevChar = char\n",
    "        count = count + 1\n",
    "    encodedList.append((prevChar, count))\n",
    "    return encodedList\n",
    "\n",
    "def decodeString(encodedList):\n",
    "    decodedStr = ''\n",
    "    for item in encodedList:\n",
    "        decodedStr = decodedStr + item[0] * item[1]\n",
    "    return decodedStr"
   ]
  },
  {
   "cell_type": "code",
   "execution_count": 76,
   "id": "9419d4f1",
   "metadata": {
    "ExecuteTime": {
     "end_time": "2023-07-02T12:30:48.532161701Z",
     "start_time": "2023-07-02T12:30:48.514892240Z"
    }
   },
   "outputs": [],
   "source": [
    "\n",
    "def encodeFile(filename, newFilename):\n",
    "\n",
    "    with open(filename) as f:\n",
    "        data = encodeString(f.read())\n",
    "\n",
    "    with open(newFilename, 'w') as f:\n",
    "        f.write(','.join([f'{char}={count}' for char, count in data]))\n",
    "\n",
    "\n",
    "def decodeFile(filename):\n",
    "    with open(filename) as f:\n",
    "        data_list = [(char, int(count)) for char, count in [item.split('=') for item in f.read().split(',')]]\n",
    "    return decodeString(data_list)"
   ]
  },
  {
   "cell_type": "code",
   "execution_count": 77,
   "id": "bd2b41b6",
   "metadata": {
    "ExecuteTime": {
     "end_time": "2023-07-02T12:30:48.532387135Z",
     "start_time": "2023-07-02T12:30:48.515187655Z"
    }
   },
   "outputs": [
    {
     "name": "stdout",
     "output_type": "stream",
     "text": [
      "Original file size: 2757\n",
      "Original file size: 1007\n"
     ]
    }
   ],
   "source": [
    "print(f'Original file size: {os.path.getsize(\"10_04_challenge_art.txt\")}')\n",
    "\n",
    "encodeFile('10_04_challenge_art.txt', '10_04_challenge_art_encoded.txt')\n",
    "\n",
    "print(f'Original file size: {os.path.getsize(\"10_04_challenge_art_encoded.txt\")}')\n"
   ]
  },
  {
   "cell_type": "code",
   "execution_count": 78,
   "id": "92945907",
   "metadata": {
    "ExecuteTime": {
     "end_time": "2023-07-02T12:30:48.532531375Z",
     "start_time": "2023-07-02T12:30:48.515457482Z"
    }
   },
   "outputs": [
    {
     "name": "stdout",
     "output_type": "stream",
     "text": [
      "\n",
      "                                                                                \n",
      "                                                                                \n",
      "                               %%%%%%%%%%%%%%%%%%%                              \n",
      "                        %%%%%%%%%%%%%%%%%%%%%%%%%%%%%%%%%                       \n",
      "                    %%%%%%%%                         %%%%%%%%                   \n",
      "                %%%%%%%                                   %%%%%%                \n",
      "              %%%%%%                                         %%%%%%             \n",
      "           %%%%%%                                               %%%%%           \n",
      "          %%%%%                                                   %%%%%         \n",
      "        %%%%%                                                       %%%%%       \n",
      "       %%%%                 %%%%%              %%%%%                  %%%%      \n",
      "      %%%%                 %%%%%%%            %%%%%%%                  %%%%     \n",
      "     %%%%                  %%%%%%%            %%%%%%%                   %%%%    \n",
      "    %%%%                   %%%%%%%            %%%%%%%                    %%%%   \n",
      "    %%%%                    %%%%%              %%%%%                     %%%%   \n",
      "   %%%%                                                                   %%%%  \n",
      "   %%%%                                                                   %%%%  \n",
      "   %%%%                                                                   %%%%  \n",
      "   %%%%                                                      %%%%        %%%%   \n",
      "    %%%%       %%%%%%                                        %%%%%       %%%%   \n",
      "    %%%%         %%%%                                       %%%%        %%%%    \n",
      "     %%%%         %%%%                                     %%%%         %%%%    \n",
      "      %%%%         %%%%%                                  %%%%         %%%%     \n",
      "       %%%%%         %%%%%                             %%%%%         %%%%%      \n",
      "        %%%%%          %%%%%%                        %%%%%          %%%%        \n",
      "          %%%%%           %%%%%%%               %%%%%%%           %%%%%         \n",
      "            %%%%%             %%%%%%%%%%%%%%%%%%%%%             %%%%%           \n",
      "              %%%%%%%                                        %%%%%              \n",
      "                 %%%%%%%                                 %%%%%%%                \n",
      "                     %%%%%%%%%                     %%%%%%%%%                    \n",
      "                          %%%%%%%%%%%%%%%%%%%%%%%%%%%%%                         \n",
      "                                   %%%%%%%%%%%%                                 \n",
      "                                                                                \n",
      "                                                                                 \n",
      "\n",
      "\n"
     ]
    }
   ],
   "source": [
    "smile = decodeFile('10_04_challenge_art_encoded.txt')\n",
    "print(smile)"
   ]
  },
  {
   "cell_type": "code",
   "execution_count": 78,
   "id": "e57a4e0b",
   "metadata": {
    "ExecuteTime": {
     "end_time": "2023-07-02T12:30:48.532578755Z",
     "start_time": "2023-07-02T12:30:48.515708942Z"
    }
   },
   "outputs": [],
   "source": []
  }
 ],
 "metadata": {
  "kernelspec": {
   "display_name": "Python 3 (ipykernel)",
   "language": "python",
   "name": "python3"
  },
  "language_info": {
   "codemirror_mode": {
    "name": "ipython",
    "version": 3
   },
   "file_extension": ".py",
   "mimetype": "text/x-python",
   "name": "python",
   "nbconvert_exporter": "python",
   "pygments_lexer": "ipython3",
   "version": "3.9.13"
  }
 },
 "nbformat": 4,
 "nbformat_minor": 5
}

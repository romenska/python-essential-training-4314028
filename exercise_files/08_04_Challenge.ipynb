{
 "cells": [
  {
   "cell_type": "markdown",
   "id": "522e4770",
   "metadata": {},
   "source": [
    "## Message Exceptions\n",
    "\n",
    "The SaveMessages class now has limited memory and should only be able to hold a maximum of 10 messages at once.\n",
    "\n",
    "This challenge has three parts, outlined in comments below. \n",
    "\n",
    "**\\# 1. Finish creating the TooManyMessagesException class**\n",
    "\n",
    "Fill in the TooManyMessagesException class. Add a custom message!\n",
    "\n",
    "**\\# 2. Raise a TooManyMessagesException exception here**\n",
    "\n",
    "Make sure that the SaveMessages class doesn't get over-full and raises an Exception if the max_messages limit is reached.\n",
    "\n",
    "**\\# 3. Catch a TooManyMessagesException and print the messages**\n",
    "\n",
    "Modify this code so that, if an exception is raised when the message is sent, the messages are printed out (emptying the message list) and the message is re-sent. Make sure to print out any remaining messages at the end!\n"
   ]
  },
  {
   "cell_type": "code",
   "execution_count": 20,
   "id": "4261d50d",
   "metadata": {
    "ExecuteTime": {
     "end_time": "2023-07-02T09:06:00.476033389Z",
     "start_time": "2023-07-02T09:06:00.431049018Z"
    }
   },
   "outputs": [],
   "source": [
    "from datetime import datetime\n",
    "\n",
    "def getCurrentTime():\n",
    "    return datetime.now().strftime(\"%m-%d-%Y %H:%M:%S\")\n",
    "\n",
    "\n",
    "class Messenger:\n",
    "    def __init__(self, listeners=[]):\n",
    "        self.listeners = listeners\n",
    "    \n",
    "    def send(self, message):\n",
    "        for listener in self.listeners:\n",
    "            listener.receive(message)\n",
    "\n",
    "    def receive(self, message):\n",
    "        pass\n",
    "\n",
    "# 1. Finish creating the TooManyMessagesException class\n",
    "class TooManyMessagesException(Exception):\n",
    "    def __init__(self, message):\n",
    "        super().__init__(f\"The message:[{message}] could not added. Please, clean messages.\")\n",
    "\n",
    "class SaveMessages(Messenger):\n",
    "    def __init__(self, listeners=[]):\n",
    "        super().__init__(listeners)\n",
    "        self.messages = []\n",
    "        self.max_messages = 10\n",
    "        \n",
    "    def receive(self, message):\n",
    "        if len(self.messages) >= self.max_messages:\n",
    "            #2. Raise a TooManyMessagesException exception here\n",
    "            raise TooManyMessagesException(message)\n",
    "        self.messages.append({'message': message, 'time': getCurrentTime()})\n",
    "        \n",
    "    def printMessages(self):\n",
    "        for m in self.messages:\n",
    "            print(f'Message: \"{m[\"message\"]}\" Time: {m[\"time\"]}')\n",
    "        self.messages = []\n",
    "\n"
   ]
  },
  {
   "cell_type": "code",
   "execution_count": 21,
   "id": "d4a45805",
   "metadata": {
    "ExecuteTime": {
     "end_time": "2023-07-02T09:06:00.476412765Z",
     "start_time": "2023-07-02T09:06:00.474513335Z"
    }
   },
   "outputs": [],
   "source": [
    "listener = SaveMessages()\n",
    "sender = Messenger([listener])"
   ]
  },
  {
   "cell_type": "code",
   "execution_count": 22,
   "id": "6baf6405",
   "metadata": {
    "ExecuteTime": {
     "end_time": "2023-07-02T09:06:00.476670200Z",
     "start_time": "2023-07-02T09:06:00.474709303Z"
    }
   },
   "outputs": [
    {
     "name": "stdout",
     "output_type": "stream",
     "text": [
      "The message:[This is message 10] could not added. Please, clean messages.\n",
      "Message: \"This is message 0\" Time: 07-02-2023 12:06:00\n",
      "Message: \"This is message 1\" Time: 07-02-2023 12:06:00\n",
      "Message: \"This is message 2\" Time: 07-02-2023 12:06:00\n",
      "Message: \"This is message 3\" Time: 07-02-2023 12:06:00\n",
      "Message: \"This is message 4\" Time: 07-02-2023 12:06:00\n",
      "Message: \"This is message 5\" Time: 07-02-2023 12:06:00\n",
      "Message: \"This is message 6\" Time: 07-02-2023 12:06:00\n",
      "Message: \"This is message 7\" Time: 07-02-2023 12:06:00\n",
      "Message: \"This is message 8\" Time: 07-02-2023 12:06:00\n",
      "Message: \"This is message 9\" Time: 07-02-2023 12:06:00\n",
      "The message:[This is message 21] could not added. Please, clean messages.\n",
      "Message: \"This is message 11\" Time: 07-02-2023 12:06:00\n",
      "Message: \"This is message 12\" Time: 07-02-2023 12:06:00\n",
      "Message: \"This is message 13\" Time: 07-02-2023 12:06:00\n",
      "Message: \"This is message 14\" Time: 07-02-2023 12:06:00\n",
      "Message: \"This is message 15\" Time: 07-02-2023 12:06:00\n",
      "Message: \"This is message 16\" Time: 07-02-2023 12:06:00\n",
      "Message: \"This is message 17\" Time: 07-02-2023 12:06:00\n",
      "Message: \"This is message 18\" Time: 07-02-2023 12:06:00\n",
      "Message: \"This is message 19\" Time: 07-02-2023 12:06:00\n",
      "Message: \"This is message 20\" Time: 07-02-2023 12:06:00\n",
      "-----------\n",
      "Message: \"This is message 22\" Time: 07-02-2023 12:06:00\n",
      "Message: \"This is message 23\" Time: 07-02-2023 12:06:00\n",
      "Message: \"This is message 24\" Time: 07-02-2023 12:06:00\n",
      "Message: \"This is message 25\" Time: 07-02-2023 12:06:00\n"
     ]
    }
   ],
   "source": [
    "# 3. Catch a TooManyMessagesException and print the messages \n",
    "for i in range(0, 26):\n",
    "    try:\n",
    "        sender.send(f'This is message {i}')\n",
    "    except TooManyMessagesException as t:\n",
    "        print(t)\n",
    "        listener.printMessages()\n",
    "print('-----------')\n",
    "listener.printMessages()"
   ]
  },
  {
   "cell_type": "code",
   "execution_count": 22,
   "id": "59c39e74",
   "metadata": {
    "ExecuteTime": {
     "end_time": "2023-07-02T09:06:00.476733080Z",
     "start_time": "2023-07-02T09:06:00.474806241Z"
    }
   },
   "outputs": [],
   "source": []
  }
 ],
 "metadata": {
  "kernelspec": {
   "display_name": "Python 3.10.4 64-bit",
   "language": "python",
   "name": "python3"
  },
  "language_info": {
   "codemirror_mode": {
    "name": "ipython",
    "version": 3
   },
   "file_extension": ".py",
   "mimetype": "text/x-python",
   "name": "python",
   "nbconvert_exporter": "python",
   "pygments_lexer": "ipython3",
   "version": "3.10.4"
  },
  "vscode": {
   "interpreter": {
    "hash": "949777d72b0d2535278d3dc13498b2535136f6dfe0678499012e853ee9abcab1"
   }
  }
 },
 "nbformat": 4,
 "nbformat_minor": 5
}

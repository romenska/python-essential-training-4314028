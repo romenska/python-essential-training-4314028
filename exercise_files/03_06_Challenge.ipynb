{
 "cells": [
  {
   "cell_type": "markdown",
   "id": "5cd90a72",
   "metadata": {},
   "source": [
    "## Converting Hexadecimal to Decimal\n",
    "\n",
    "Hexadecimal or \"base 16\" uses all of the numbers 0 - 9, plus a few others to signify higher numbers:\n",
    "\n",
    "A = 10\n",
    "\n",
    "B = 11\n",
    "\n",
    "C = 12\n",
    "\n",
    "D = 13\n",
    "\n",
    "E = 14\n",
    "\n",
    "F = 15\n",
    "\n",
    "Therefore, the number 'D' in hexadecimal would be 13 in decimal.\n",
    "\n",
    "The number '1A' in hexadecimal would be 26 in decimal. Just like we have the \"tens\" place in base 10, hexadecimal has the \"sixteens\" place. So 1A would be 16 + 10 or 26. \n",
    "\n",
    "And just like decimal has the \"hundreds\" place (because 10 * 10 is 100), hexadecimal has the \"256's\" place (because 16 * 16 is 256) So 'ABC' in hexadecimal is (256 * 10) + (16 * 11) + (1 * 12) or 2,748\n"
   ]
  },
  {
   "cell_type": "code",
   "execution_count": 2,
   "id": "cfc54187",
   "metadata": {
    "ExecuteTime": {
     "end_time": "2023-07-01T12:23:34.259739431Z",
     "start_time": "2023-07-01T12:23:34.216791573Z"
    }
   },
   "outputs": [],
   "source": [
    "hexNumbers = {\n",
    "    '0': 0, '1': 1, '2': 2, '3': 3, '4': 4, '5': 5, '6': 6, '7': 7, '8': 8, '9': 9,\n",
    "    'A': 10, 'B': 11, 'C': 12, 'D': 13, 'E': 14, 'F': 15\n",
    "}\n",
    "\n",
    "# Converts a string hexadecimal number into an integer decimal\n",
    "# If hexNum is not a valid hexadecimal number, returns None\n",
    "def hexToDec(hexNum):\n",
    "    result = 0\n",
    "    base=1\n",
    "    for c in hexNum[::-1]:\n",
    "        if c not in hexNumbers.keys():\n",
    "            return\n",
    "        result= result + hexNumbers[c] * base\n",
    "        base = base * 16\n",
    "    return result\n"
   ]
  },
  {
   "cell_type": "code",
   "execution_count": 3,
   "id": "6871966d",
   "metadata": {
    "ExecuteTime": {
     "end_time": "2023-07-01T12:23:34.260369318Z",
     "start_time": "2023-07-01T12:23:34.258500493Z"
    }
   },
   "outputs": [
    {
     "data": {
      "text/plain": "10"
     },
     "execution_count": 3,
     "metadata": {},
     "output_type": "execute_result"
    }
   ],
   "source": [
    "# 10\n",
    "hexToDec('A')"
   ]
  },
  {
   "cell_type": "code",
   "execution_count": 4,
   "id": "fbac89a5",
   "metadata": {
    "ExecuteTime": {
     "end_time": "2023-07-01T12:23:34.260843523Z",
     "start_time": "2023-07-01T12:23:34.258907968Z"
    }
   },
   "outputs": [
    {
     "data": {
      "text/plain": "0"
     },
     "execution_count": 4,
     "metadata": {},
     "output_type": "execute_result"
    }
   ],
   "source": [
    "# 0\n",
    "hexToDec('0')"
   ]
  },
  {
   "cell_type": "code",
   "execution_count": 5,
   "id": "e8471b43",
   "metadata": {
    "ExecuteTime": {
     "end_time": "2023-07-01T12:23:34.261373544Z",
     "start_time": "2023-07-01T12:23:34.259175492Z"
    }
   },
   "outputs": [
    {
     "data": {
      "text/plain": "27"
     },
     "execution_count": 5,
     "metadata": {},
     "output_type": "execute_result"
    }
   ],
   "source": [
    "# 27\n",
    "hexToDec('1B')"
   ]
  },
  {
   "cell_type": "code",
   "execution_count": 6,
   "id": "828e6dce",
   "metadata": {
    "ExecuteTime": {
     "end_time": "2023-07-01T12:23:34.261598360Z",
     "start_time": "2023-07-01T12:23:34.259376450Z"
    }
   },
   "outputs": [
    {
     "data": {
      "text/plain": "960"
     },
     "execution_count": 6,
     "metadata": {},
     "output_type": "execute_result"
    }
   ],
   "source": [
    "# 960\n",
    "hexToDec('3C0')"
   ]
  },
  {
   "cell_type": "code",
   "execution_count": 7,
   "id": "86051c1a",
   "metadata": {
    "ExecuteTime": {
     "end_time": "2023-07-01T12:23:34.261784774Z",
     "start_time": "2023-07-01T12:23:34.259563776Z"
    }
   },
   "outputs": [],
   "source": [
    "# None\n",
    "hexToDec('A6G')"
   ]
  },
  {
   "cell_type": "code",
   "execution_count": 8,
   "id": "598538ff",
   "metadata": {
    "ExecuteTime": {
     "end_time": "2023-07-01T12:23:34.261930840Z",
     "start_time": "2023-07-01T12:23:34.260619381Z"
    }
   },
   "outputs": [],
   "source": [
    "# None\n",
    "hexToDec('ZZTOP')"
   ]
  },
  {
   "cell_type": "code",
   "execution_count": 8,
   "id": "0051662e",
   "metadata": {
    "ExecuteTime": {
     "end_time": "2023-07-01T12:23:34.262158987Z",
     "start_time": "2023-07-01T12:23:34.261036175Z"
    }
   },
   "outputs": [],
   "source": []
  }
 ],
 "metadata": {
  "kernelspec": {
   "display_name": "Python 3.10.4 64-bit",
   "language": "python",
   "name": "python3"
  },
  "language_info": {
   "codemirror_mode": {
    "name": "ipython",
    "version": 3
   },
   "file_extension": ".py",
   "mimetype": "text/x-python",
   "name": "python",
   "nbconvert_exporter": "python",
   "pygments_lexer": "ipython3",
   "version": "3.10.4"
  },
  "vscode": {
   "interpreter": {
    "hash": "949777d72b0d2535278d3dc13498b2535136f6dfe0678499012e853ee9abcab1"
   }
  }
 },
 "nbformat": 4,
 "nbformat_minor": 5
}

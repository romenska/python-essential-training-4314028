{
 "cells": [
  {
   "cell_type": "markdown",
   "id": "48f2163c",
   "metadata": {},
   "source": [
    "## Factorial Challenge\n",
    "\n",
    "The factorial function gives the number of possible arrangements of a set of items of length \"n\"\n",
    "\n",
    "For example, there are 4! (\"four factorial\") or 24 ways to arrange four items, which can be calculated as: \n",
    "4 \\* 3 \\* 2 \\* 1\n",
    "\n",
    "5! = 5 \\* 4 \\* 3 \\* 2 \\* 1 = 120\n",
    "\n",
    "6! = 6 \\* 5 \\* 4 \\* 3 \\* 2 \\* 1 = 720\n",
    "\n",
    "etc.\n",
    "\n",
    "In a set of 0 items (an empty set) there is only one way to arrange the items, therefore, 0! = 1\n",
    "\n",
    "For the purposes of this exercise, factorials are only defined for **positive integers** (including 0)\n",
    "\n",
    "\n"
   ]
  },
  {
   "cell_type": "code",
   "execution_count": 139,
   "id": "92af0386",
   "metadata": {
    "ExecuteTime": {
     "end_time": "2023-07-01T11:28:53.830663416Z",
     "start_time": "2023-07-01T11:28:53.785509488Z"
    }
   },
   "outputs": [],
   "source": [
    "# Returns the value of the factorial of num if it is defined, otherwise, returns None\n",
    "def factorial(num):\n",
    "    if type(num)!=int or num<0:\n",
    "        return None\n",
    "    elif num == 0:\n",
    "        return 1\n",
    "    else:\n",
    "        return num*factorial(num-1)\n"
   ]
  },
  {
   "cell_type": "code",
   "execution_count": 140,
   "id": "1d10be7a",
   "metadata": {
    "ExecuteTime": {
     "end_time": "2023-07-01T11:28:53.832352638Z",
     "start_time": "2023-07-01T11:28:53.831024181Z"
    }
   },
   "outputs": [
    {
     "data": {
      "text/plain": "120"
     },
     "execution_count": 140,
     "metadata": {},
     "output_type": "execute_result"
    }
   ],
   "source": [
    "# return 120\n",
    "factorial(5)"
   ]
  },
  {
   "cell_type": "code",
   "execution_count": 141,
   "id": "580eeb3e",
   "metadata": {
    "ExecuteTime": {
     "end_time": "2023-07-01T11:28:53.832537612Z",
     "start_time": "2023-07-01T11:28:53.831301929Z"
    }
   },
   "outputs": [
    {
     "data": {
      "text/plain": "720"
     },
     "execution_count": 141,
     "metadata": {},
     "output_type": "execute_result"
    }
   ],
   "source": [
    "# return 720\n",
    "factorial (6)"
   ]
  },
  {
   "cell_type": "code",
   "execution_count": 142,
   "id": "c43845c1",
   "metadata": {
    "ExecuteTime": {
     "end_time": "2023-07-01T11:28:53.832651973Z",
     "start_time": "2023-07-01T11:28:53.831450917Z"
    }
   },
   "outputs": [
    {
     "data": {
      "text/plain": "1"
     },
     "execution_count": 142,
     "metadata": {},
     "output_type": "execute_result"
    }
   ],
   "source": [
    "# return 1\n",
    "factorial(0)"
   ]
  },
  {
   "cell_type": "code",
   "execution_count": 143,
   "id": "8f605415",
   "metadata": {
    "ExecuteTime": {
     "end_time": "2023-07-01T11:28:53.832730466Z",
     "start_time": "2023-07-01T11:28:53.831663639Z"
    }
   },
   "outputs": [],
   "source": [
    "# return None\n",
    "factorial(-2)"
   ]
  },
  {
   "cell_type": "code",
   "execution_count": 144,
   "id": "5b973ff0",
   "metadata": {
    "ExecuteTime": {
     "end_time": "2023-07-01T11:28:53.832797626Z",
     "start_time": "2023-07-01T11:28:53.831748499Z"
    }
   },
   "outputs": [],
   "source": [
    "# return None\n",
    "factorial(1.2)"
   ]
  },
  {
   "cell_type": "code",
   "execution_count": 145,
   "id": "67f07cca",
   "metadata": {
    "ExecuteTime": {
     "end_time": "2023-07-01T11:28:53.832852693Z",
     "start_time": "2023-07-01T11:28:53.831915222Z"
    }
   },
   "outputs": [],
   "source": [
    "# return None\n",
    "factorial('spam spam spam spam spam spam')"
   ]
  },
  {
   "cell_type": "code",
   "execution_count": 145,
   "id": "714148cd",
   "metadata": {
    "ExecuteTime": {
     "end_time": "2023-07-01T11:28:53.832901790Z",
     "start_time": "2023-07-01T11:28:53.831975703Z"
    }
   },
   "outputs": [],
   "source": []
  }
 ],
 "metadata": {
  "kernelspec": {
   "display_name": "Python 3 (ipykernel)",
   "language": "python",
   "name": "python3"
  },
  "language_info": {
   "codemirror_mode": {
    "name": "ipython",
    "version": 3
   },
   "file_extension": ".py",
   "mimetype": "text/x-python",
   "name": "python",
   "nbconvert_exporter": "python",
   "pygments_lexer": "ipython3",
   "version": "3.10.4"
  }
 },
 "nbformat": 4,
 "nbformat_minor": 5
}

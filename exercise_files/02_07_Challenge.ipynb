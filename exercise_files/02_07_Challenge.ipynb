{
 "cells": [
  {
   "cell_type": "markdown",
   "id": "48f2163c",
   "metadata": {},
   "source": [
    "## Factorial Challenge\n",
    "\n",
    "The factorial function gives the number of possible arrangements of a set of items of length \"n\"\n",
    "\n",
    "For example, there are 4! (\"four factorial\") or 24 ways to arrange four items, which can be calculated as: \n",
    "4 \\* 3 \\* 2 \\* 1\n",
    "\n",
    "5! = 5 \\* 4 \\* 3 \\* 2 \\* 1 = 120\n",
    "\n",
    "6! = 6 \\* 5 \\* 4 \\* 3 \\* 2 \\* 1 = 720\n",
    "\n",
    "etc.\n",
    "\n",
    "In a set of 0 items (an empty set) there is only one way to arrange the items, therefore, 0! = 1\n",
    "\n",
    "For the purposes of this exercise, factorials are only defined for **positive integers** (including 0)\n",
    "\n",
    "\n"
   ]
  },
  {
   "cell_type": "code",
   "execution_count": 54,
   "id": "92af0386",
   "metadata": {
    "ExecuteTime": {
     "end_time": "2023-07-01T11:06:34.575035880Z",
     "start_time": "2023-07-01T11:06:34.530973454Z"
    }
   },
   "outputs": [],
   "source": [
    "# Returns the value of the factorial of num if it is defined, otherwise, returns None\n",
    "def factorial(num):\n",
    "    if type(num)!=int or num<0:\n",
    "        return None\n",
    "    else:\n",
    "        result=1\n",
    "        for x in range(1,num+1):\n",
    "            result = result * x\n",
    "        return result\n"
   ]
  },
  {
   "cell_type": "code",
   "execution_count": 55,
   "id": "1d10be7a",
   "metadata": {
    "ExecuteTime": {
     "end_time": "2023-07-01T11:06:34.575477125Z",
     "start_time": "2023-07-01T11:06:34.574709052Z"
    }
   },
   "outputs": [
    {
     "data": {
      "text/plain": "120"
     },
     "execution_count": 55,
     "metadata": {},
     "output_type": "execute_result"
    }
   ],
   "source": [
    "# return 120\n",
    "factorial(5)"
   ]
  },
  {
   "cell_type": "code",
   "execution_count": 56,
   "id": "580eeb3e",
   "metadata": {
    "ExecuteTime": {
     "end_time": "2023-07-01T11:06:34.575668997Z",
     "start_time": "2023-07-01T11:06:34.575258116Z"
    }
   },
   "outputs": [
    {
     "data": {
      "text/plain": "720"
     },
     "execution_count": 56,
     "metadata": {},
     "output_type": "execute_result"
    }
   ],
   "source": [
    "# return 720\n",
    "factorial (6)"
   ]
  },
  {
   "cell_type": "code",
   "execution_count": 57,
   "id": "c43845c1",
   "metadata": {
    "ExecuteTime": {
     "end_time": "2023-07-01T11:06:34.575801047Z",
     "start_time": "2023-07-01T11:06:34.575561418Z"
    }
   },
   "outputs": [
    {
     "data": {
      "text/plain": "1"
     },
     "execution_count": 57,
     "metadata": {},
     "output_type": "execute_result"
    }
   ],
   "source": [
    "# return 1\n",
    "factorial(0)"
   ]
  },
  {
   "cell_type": "code",
   "execution_count": 58,
   "id": "8f605415",
   "metadata": {
    "ExecuteTime": {
     "end_time": "2023-07-01T11:06:34.577146289Z",
     "start_time": "2023-07-01T11:06:34.575858369Z"
    }
   },
   "outputs": [],
   "source": [
    "# return None\n",
    "factorial(-2)"
   ]
  },
  {
   "cell_type": "code",
   "execution_count": 59,
   "id": "5b973ff0",
   "metadata": {
    "ExecuteTime": {
     "end_time": "2023-07-01T11:06:34.577264493Z",
     "start_time": "2023-07-01T11:06:34.576024034Z"
    }
   },
   "outputs": [],
   "source": [
    "# return None\n",
    "factorial(1.2)"
   ]
  },
  {
   "cell_type": "code",
   "execution_count": 60,
   "id": "67f07cca",
   "metadata": {
    "ExecuteTime": {
     "end_time": "2023-07-01T11:06:34.577331175Z",
     "start_time": "2023-07-01T11:06:34.576246063Z"
    }
   },
   "outputs": [],
   "source": [
    "# return None\n",
    "factorial('spam spam spam spam spam spam')"
   ]
  },
  {
   "cell_type": "code",
   "execution_count": 60,
   "id": "714148cd",
   "metadata": {
    "ExecuteTime": {
     "end_time": "2023-07-01T11:06:34.577388817Z",
     "start_time": "2023-07-01T11:06:34.576395444Z"
    }
   },
   "outputs": [],
   "source": []
  }
 ],
 "metadata": {
  "kernelspec": {
   "display_name": "Python 3 (ipykernel)",
   "language": "python",
   "name": "python3"
  },
  "language_info": {
   "codemirror_mode": {
    "name": "ipython",
    "version": 3
   },
   "file_extension": ".py",
   "mimetype": "text/x-python",
   "name": "python",
   "nbconvert_exporter": "python",
   "pygments_lexer": "ipython3",
   "version": "3.10.4"
  }
 },
 "nbformat": 4,
 "nbformat_minor": 5
}

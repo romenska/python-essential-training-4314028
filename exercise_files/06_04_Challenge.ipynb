{
 "cells": [
  {
   "cell_type": "markdown",
   "id": "6aa3058e",
   "metadata": {},
   "source": [
    "## Can You Hear Me Now?\n",
    "\n",
    "Create a function \"getWithRetry\" that calls a function until it receives response that is not None, and then returns that response. If it continues to get no response, it should give up after a certain number of tries (to be decided by you) \n",
    "\n",
    "After filling out the \"getWithRetry\" function, run all of the cells in this notebook in order to test the following scenarios:\n",
    "- All services are up\n",
    "- All services are down\n",
    "- All services are down and making a request takes 0.1 seconds to execute\n",
    "\n",
    "What is the ideal number of retries before giving up? How do you know whether the service is down or you're just unlucky?"
   ]
  },
  {
   "cell_type": "code",
   "execution_count": 1,
   "id": "52439a5a",
   "metadata": {
    "ExecuteTime": {
     "end_time": "2023-07-01T16:01:39.934628418Z",
     "start_time": "2023-07-01T16:01:39.934223722Z"
    }
   },
   "outputs": [],
   "source": [
    "import random\n",
    "import time"
   ]
  },
  {
   "cell_type": "code",
   "execution_count": 2,
   "id": "01d1f0d6",
   "metadata": {
    "ExecuteTime": {
     "end_time": "2023-07-01T16:01:39.934872689Z",
     "start_time": "2023-07-01T16:01:39.934397912Z"
    }
   },
   "outputs": [],
   "source": [
    "servicesAreUp = True\n",
    "\n",
    "def getData50():\n",
    "    if servicesAreUp and random.random() < 0.5:\n",
    "        return 'You got the data! That only happens 50% of the time!'\n",
    "\n",
    "def getData25():\n",
    "    if servicesAreUp and random.random() < 0.25:\n",
    "        return 'You got the data! That only happens 25% of the time!'    \n",
    "\n",
    "def getData10():\n",
    "    if servicesAreUp and random.random() < 0.1:\n",
    "        return 'You got the data! That only happens 10% of the time!'"
   ]
  },
  {
   "cell_type": "code",
   "execution_count": 3,
   "id": "0994b5f1",
   "metadata": {
    "ExecuteTime": {
     "end_time": "2023-07-01T16:01:39.934968277Z",
     "start_time": "2023-07-01T16:01:39.934439392Z"
    }
   },
   "outputs": [],
   "source": [
    "# Your code here!\n",
    "def getWithRetry(dataFunc):\n",
    "    while servicesAreUp:\n",
    "        return dataFunc() or getWithRetry(dataFunc)\n"
   ]
  },
  {
   "cell_type": "code",
   "execution_count": 4,
   "id": "84eb11cb",
   "metadata": {
    "ExecuteTime": {
     "end_time": "2023-07-01T16:01:39.935165269Z",
     "start_time": "2023-07-01T16:01:39.934483831Z"
    }
   },
   "outputs": [
    {
     "data": {
      "text/plain": "'You got the data! That only happens 50% of the time!'"
     },
     "execution_count": 4,
     "metadata": {},
     "output_type": "execute_result"
    }
   ],
   "source": [
    "# Should return 'You got the data! That only happens 50% of the time!'\n",
    "getWithRetry(getData50)"
   ]
  },
  {
   "cell_type": "code",
   "execution_count": 5,
   "id": "fd803ca8",
   "metadata": {
    "ExecuteTime": {
     "end_time": "2023-07-01T16:01:39.935474550Z",
     "start_time": "2023-07-01T16:01:39.934525612Z"
    }
   },
   "outputs": [
    {
     "data": {
      "text/plain": "'You got the data! That only happens 25% of the time!'"
     },
     "execution_count": 5,
     "metadata": {},
     "output_type": "execute_result"
    }
   ],
   "source": [
    "# Should return 'You got the data! That only happens 25% of the time!'\n",
    "getWithRetry(getData25)"
   ]
  },
  {
   "cell_type": "code",
   "execution_count": 6,
   "id": "5732135e",
   "metadata": {
    "ExecuteTime": {
     "end_time": "2023-07-01T16:01:39.935622856Z",
     "start_time": "2023-07-01T16:01:39.934826981Z"
    }
   },
   "outputs": [
    {
     "data": {
      "text/plain": "'You got the data! That only happens 10% of the time!'"
     },
     "execution_count": 6,
     "metadata": {},
     "output_type": "execute_result"
    }
   ],
   "source": [
    "# Should return 'You got the data! That only happens 10% of the time!'\n",
    "getWithRetry(getData10)"
   ]
  },
  {
   "cell_type": "code",
   "execution_count": 7,
   "id": "c8ee2bd0",
   "metadata": {
    "ExecuteTime": {
     "end_time": "2023-07-01T16:01:39.935678910Z",
     "start_time": "2023-07-01T16:01:39.934940415Z"
    }
   },
   "outputs": [],
   "source": [
    "servicesAreUp = False"
   ]
  },
  {
   "cell_type": "code",
   "execution_count": 8,
   "id": "961a60ea",
   "metadata": {
    "ExecuteTime": {
     "end_time": "2023-07-01T16:01:39.935730913Z",
     "start_time": "2023-07-01T16:01:39.935010705Z"
    }
   },
   "outputs": [],
   "source": [
    "# Returns None\n",
    "getWithRetry(getData50)"
   ]
  },
  {
   "cell_type": "code",
   "execution_count": 9,
   "id": "b009f04c",
   "metadata": {
    "ExecuteTime": {
     "end_time": "2023-07-01T16:01:39.935779470Z",
     "start_time": "2023-07-01T16:01:39.935240334Z"
    }
   },
   "outputs": [],
   "source": [
    "# Returns None\n",
    "getWithRetry(getData25)"
   ]
  },
  {
   "cell_type": "code",
   "execution_count": 10,
   "id": "a4b67294",
   "metadata": {
    "ExecuteTime": {
     "end_time": "2023-07-01T16:01:39.989081314Z",
     "start_time": "2023-07-01T16:01:39.978315264Z"
    }
   },
   "outputs": [],
   "source": [
    "# Returns None\n",
    "getWithRetry(getData10)"
   ]
  },
  {
   "cell_type": "code",
   "execution_count": 11,
   "id": "2ac6e378",
   "metadata": {
    "ExecuteTime": {
     "end_time": "2023-07-01T16:01:39.995891040Z",
     "start_time": "2023-07-01T16:01:39.978450384Z"
    }
   },
   "outputs": [],
   "source": [
    "def getData50():\n",
    "    time.sleep(.1)\n",
    "    if servicesAreUp and random.random() < 0.5:\n",
    "        return 'You got the data! That only happens 50% of the time!'\n",
    "\n",
    "def getData25():\n",
    "    time.sleep(.1)\n",
    "    if servicesAreUp and random.random() < 0.25:\n",
    "        return 'You got the data! That only happens 25% of the time!'    \n",
    "\n",
    "def getData10():\n",
    "    time.sleep(.1)\n",
    "    if servicesAreUp and random.random() < 0.1:\n",
    "        return 'You got the data! That only happens 10% of the time!'"
   ]
  },
  {
   "cell_type": "code",
   "execution_count": 12,
   "id": "3f96192e",
   "metadata": {
    "ExecuteTime": {
     "end_time": "2023-07-01T16:01:39.996116373Z",
     "start_time": "2023-07-01T16:01:39.978514172Z"
    }
   },
   "outputs": [],
   "source": [
    "# Returns None\n",
    "getWithRetry(getData50)"
   ]
  },
  {
   "cell_type": "code",
   "execution_count": 13,
   "id": "993f2d05",
   "metadata": {
    "ExecuteTime": {
     "end_time": "2023-07-01T16:01:39.996217504Z",
     "start_time": "2023-07-01T16:01:39.978568605Z"
    }
   },
   "outputs": [],
   "source": [
    "getWithRetry(getData25)"
   ]
  },
  {
   "cell_type": "code",
   "execution_count": 14,
   "id": "b5a44926",
   "metadata": {
    "ExecuteTime": {
     "end_time": "2023-07-01T16:01:39.996271901Z",
     "start_time": "2023-07-01T16:01:39.978624143Z"
    }
   },
   "outputs": [],
   "source": [
    "getWithRetry(getData10)"
   ]
  },
  {
   "cell_type": "code",
   "execution_count": 14,
   "id": "5137b2b5",
   "metadata": {
    "ExecuteTime": {
     "end_time": "2023-07-01T16:01:39.996321346Z",
     "start_time": "2023-07-01T16:01:39.978668093Z"
    }
   },
   "outputs": [],
   "source": []
  }
 ],
 "metadata": {
  "kernelspec": {
   "display_name": "Python 3.10.4 64-bit",
   "language": "python",
   "name": "python3"
  },
  "language_info": {
   "codemirror_mode": {
    "name": "ipython",
    "version": 3
   },
   "file_extension": ".py",
   "mimetype": "text/x-python",
   "name": "python",
   "nbconvert_exporter": "python",
   "pygments_lexer": "ipython3",
   "version": "3.10.4"
  },
  "vscode": {
   "interpreter": {
    "hash": "949777d72b0d2535278d3dc13498b2535136f6dfe0678499012e853ee9abcab1"
   }
  }
 },
 "nbformat": 4,
 "nbformat_minor": 5
}
